{
 "cells": [
  {
   "cell_type": "code",
   "execution_count": null,
   "metadata": {},
   "outputs": [],
   "source": [
    "import numpy as np\n",
    "import matplotlib.pyplot as plt\n",
    "import scipy.signal as sig\n",
    "import scipy.stats as st\n",
    "import scipy.fft as fft\n",
    "import xarray as xr\n",
    "\n",
    "# Note - please do not use sig.welch\n",
    "# Other scipy.sig functions are ok"
   ]
  },
  {
   "cell_type": "markdown",
   "metadata": {},
   "source": [
    "# Lab 3.1 \n",
    "\n",
    "1. Load the 1D OU and 2D OU (oscillator) you created and the MTLWstation_T2m.nc data \n",
    "2. plot the power spectrum for each of those time series\n",
    "3. For the 1D OU process add a theoretical value of the power spectrum to the plot\n",
    "4. What do the peaks in the power spectrum represent? \n",
    "\n",
    "Hint - make sure that your power spectrum is normalized correctly. You will also need to scale the power spectrum by the variance to get the correct answer.\n",
    "\n",
    "Hint - its easier to study spectrum in a log-log view normally, which you can do using plt.loglog"
   ]
  },
  {
   "cell_type": "markdown",
   "metadata": {},
   "source": [
    "# Lab 3.2 \n",
    "\n",
    "1. For the same datasets in Lab 3.1, estimate the power spectrum using your own implementation of a windowing method with 50% overlap. You may choose the window length that you use but you must justify it. \n",
    "2. Plot a theoretical value for the 1D OU power spectrum to all the plots. For the Oscillator use the value of $\\tau$ that you used to generate the data, for the MTL T2m data use a value $\\tau=2$. \n",
    "3. For the Oscillator and the MTL T2m data add $\\alpha=0.05$ confidence intervals to the theoretical power spectrum. What does this tell you about the data? \n",
    "\n"
   ]
  },
  {
   "cell_type": "markdown",
   "metadata": {},
   "source": [
    "# Lab 3.3 \n",
    "\n",
    "1. Adapt your periodogram method from lab 3.2 into a method to calculate the coherence and phase specturm, and then calculate the coherence and phase spectrum using the stochastic oscillator data that you have saved. Does the result match your explanation?\n",
    "2. Repeat the question using the ENSO index and PDO index from the file data/Enso_pdo_timeseries.nc. What does the coherence and phase tell you in this case?\n",
    "\n",
    "Hint - because correlation and phase are bounded, its nice to use plt.semilogx to scale the frequency values logarithmicly, but not change the y values.\n",
    "\n",
    "Hint - it might help to plot the individual power spectrum for the ENSO and PDO index separately to compare to the coherence data.\n",
    "\n",
    "The ENSO index are the SSTs (Sea Surface Temperature) taken from the \"Nino 3.4 Region\" and then standardized by removing the mean and then dividing by the standard deviation. \n",
    "\n",
    "<img src=\"../images/ENSO_SST.JPG\">\n",
    "\n",
    "The PDO index is calculated using the EOFs in the north pacific (described in the next section). However it ends up being pretty close to the correlation of a box in the north pacific, see plot. \n",
    "\n",
    "<img src=\"../images/PDO-pattern.png\">\n",
    "\n",
    "Image: Correlation pattern between the PDO (defined by the SSTs in the box) and SSTs everywhere else. Blue is negative, Red is positive. \n",
    "\n"
   ]
  },
  {
   "cell_type": "markdown",
   "metadata": {},
   "source": [
    "# Lab 3.4 \n",
    "\n",
    "1. Using the MTL T2M data, construct highpass, lowpass, and bandpass filters for:\n",
    "   1. the diurnal cycle \n",
    "   2. the seasonal cycle \n",
    "2. filter the data and show that your filters work\n",
    "3. Use a bandpass filter to isolate the ENSO frequency from the ENSO time series\n",
    "\n",
    "Hint: you might want to use a power spectrum to identify the frequency range that you want to isolate."
   ]
  },
  {
   "cell_type": "markdown",
   "metadata": {},
   "source": [
    "# Lab 3.5 \n",
    "\n",
    "1. Load the MTL T2M data and calculate the wavelet transform. Use widths varying between 6 hours and 1 week. \n",
    "2. Analyze the wavelet transform. What do you observe? What is the connection between the power of the wavelet spectrum at different times and the different scales? \n",
    "\n",
    "Hint: it might be helpful to plot segments of the time series at windowed over different periods to compare to the wavelet spectrum. "
   ]
  }
 ],
 "metadata": {
  "language_info": {
   "name": "python"
  }
 },
 "nbformat": 4,
 "nbformat_minor": 2
}
