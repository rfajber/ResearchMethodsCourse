{
 "cells": [
  {
   "cell_type": "code",
   "execution_count": null,
   "metadata": {},
   "outputs": [],
   "source": [
    "# these are the packages that I used \n",
    "\n",
    "import xarray as xr\n",
    "import numpy as np\n",
    "import pandas as pd\n",
    "import matplotlib.pyplot as plt"
   ]
  },
  {
   "cell_type": "markdown",
   "metadata": {},
   "source": [
    "# Lab 0 (optional)\n",
    "\n",
    "## preamble\n",
    "\n",
    "The purpose of this lab is to get you used to loading up some different datasets and doing some basic operations with them. For some of you it may be entirely review. \n",
    "\n",
    "Unlike the other labs I am posting the solution at the same time as the lab. If you are completely lost I would take a look at the solution file and see if it makes sense to you, and then you can try experimenting with it.\n",
    "\n",
    "The file air.2m.mon.mean.nc is monthly mean 2m air temperatures from the NCEP/DOE reanalysis 2. Note that the latitudes are not equally spaced.\n",
    "\n",
    "The file 1850-2022.csv are the annual and global mean air temperature anomalies from the NOAA GlobalTemp dataset. The reference period is 1971-2000.  \n",
    "\n",
    "## Questions \n",
    "1. Load the datafile data/air.2m.mon.mean.nc What variables does it contain?\n",
    "2. Make a map of annual mean air temperature for 1979 \n",
    "3. Calculate the global mean air temperature for the entire dataset\n",
    "4. Load the datafile data/global/1850-2022.csv What variables does it contain?\n",
    "5. Make a plot showing the global mean temperature anomalies from both datasets.\n",
    "\n",
    "## Hints\n",
    "\n",
    "- To calculate a global mean you will need to area weight the data. If each grid cell has a size $dr_x$ radians in the longitude direction and $dr_y$ radians in the latitude direction then the solid angle element of the cell is $$ dA = dr_x dr_y cos(r_y) $$ and the area weighted mean of f is $$ \\overline{f} = \\frac{\\sum_{i,j} f_{i,j} dA_{i,j}}{\\sum_{i,j} dA_{i,j}} $$\n",
    "\n",
    "- The temperature anomaly of something is $$ T' = T - \\overline{T} $$ How would create consistent anomalies for 2 different datasets? "
   ]
  }
 ],
 "metadata": {
  "language_info": {
   "name": "python"
  }
 },
 "nbformat": 4,
 "nbformat_minor": 2
}
