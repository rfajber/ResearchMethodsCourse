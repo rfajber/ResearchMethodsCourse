{
 "cells": [
  {
   "cell_type": "code",
   "execution_count": 162,
   "metadata": {},
   "outputs": [],
   "source": [
    "import numpy as np\n",
    "import matplotlib.pyplot as plt\n",
    "import scipy.linalg as la\n",
    "import xarray as xr\n",
    "import scipy.fft as fft"
   ]
  },
  {
   "cell_type": "markdown",
   "metadata": {},
   "source": [
    "# Lab 2.1 \n",
    "\n",
    "1. Generate a realization of an OU process with 10^5 steps, using dt=0.001 and $\\tau$=1, and plot it.\n",
    "2. Verify that your simulation worked by comparing the variance to the analytic solution.\n",
    "3. Using the same time step and length, vary $\\tau$.  What do you notice happens when you make $\\tau$ very large or very small?\n",
    "4. Generate realizations of the OU process with 10^6 steps, using dt=0.001 and $\\tau$=1, (note this will take about 10 seconds or so) and save it as a netcdf file. Load your netcdf file afterwards to show that it is working.\n",
    "\n",
    "Hint: to save something as a netcdf file there are 2 steps:\n",
    "1. declare a DataArray, and set some variables and attributes, here I'm assuming that I generated an OU process like x(t) : \n",
    "```\n",
    "ds=xr.Dataset(data_vars={'x':('t',x)},\n",
    "                coords={'t':('t',t)},\n",
    "                attrs={'description':'1D OU data',\n",
    "                        'noise strength': '1',\n",
    "                        'tau':'1'}\n",
    "                )\n",
    "```\n",
    "The data_vars and coordinates are python dictionaries, that have the keys set to be the name we want to save with. The values are tuples, where the first entry is the dimension the data has, and the second is the data that we are storing.\n",
    "\n",
    "1. save that Dataset using to netcdf using ```ds.to_netcdf('/file/path/to/somewhere/theFileName.nc')```\n"
   ]
  },
  {
   "cell_type": "markdown",
   "metadata": {},
   "source": [
    "# Lab 2.2\n",
    "\n",
    "1. Load the data that you saved in the previous lab, and calculate the autocovariance and aucorrelation. \n",
    "   1. Start using 1e4 samples and 1e4 lags. Vary the number of samples until you are happy with the estimate. How many samples did you have to use? \n",
    "   2. Add a line to your plot testing the hypothesis that the correlation is different from 0 with $p=0.05$\n",
    "2. Split your OU data into 1000 subsections of equal length, and calculate the mean from each length. \n",
    "   1. Compare this to the known value of the mean for your simulation.\n",
    "   2. How many data points do you think you need in order to reliably calculate the mean? How does this relate to the parameters of the process that you simulated? \n",
    "3. Load the data in MTLWstation_T2m.nc and calculate the autocorrelation using 30*24=720 lags \n",
    "   1. How does this example compare to the previous example?\n",
    "   2. repeat the calculation with 365*24=8760 lags. How do you interpret this result?\n",
    "\n",
    "Hint: The data in MTLWstation_T2m.nc is a hourly 2m temperature time series from the Montreal International Airport. You might want to make a plot of it to see whats going on. You may also want to make several plots of both the data and autocovariance zoomed in at different timescales.  "
   ]
  },
  {
   "cell_type": "markdown",
   "metadata": {},
   "source": [
    "# Lab 2.3 \n",
    "\n",
    "## Generating data with the stochastic oscillator \n",
    "1. Generate a realization of the stochastic oscillator using dt=0.001, $\\tau=2$ and $f=1$.\n",
    "2. Vary $f$ and test what it does to the realizations. What happens in the limits as $f/\\tau$ becomes large and small?\n",
    "3. Save off a realization of length 10^6 with the default parameters to use in the future. \n",
    "\n",
    "## Calculating covariance and Autocovariance \n",
    "1. Calculate the lagged autocorrelation of the 2 components of the stochastic oscillator.\n",
    "2. Is there any insight that you can get about the weather station data from this calculation?   "
   ]
  },
  {
   "cell_type": "markdown",
   "metadata": {},
   "source": [
    "# Lab 3.1 \n",
    "\n",
    "1. Load the and calculate the power spectrum for:\n",
    "   1. the 1D OU process\n",
    "   2. 1 component of the stochastic oscillator \n",
    "   3. MTLWstation_T2m.nc\n",
    "2. Compare the power spectrum from the different datasets. What do you notice? What can you conclude about the Montreal weather data?"
   ]
  }
 ],
 "metadata": {
  "kernelspec": {
   "display_name": "base",
   "language": "python",
   "name": "python3"
  },
  "language_info": {
   "codemirror_mode": {
    "name": "ipython",
    "version": 3
   },
   "file_extension": ".py",
   "mimetype": "text/x-python",
   "name": "python",
   "nbconvert_exporter": "python",
   "pygments_lexer": "ipython3",
   "version": "3.11.4"
  }
 },
 "nbformat": 4,
 "nbformat_minor": 2
}
