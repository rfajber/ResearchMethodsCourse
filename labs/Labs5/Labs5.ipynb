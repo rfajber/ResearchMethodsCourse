{
 "cells": [
  {
   "cell_type": "markdown",
   "metadata": {},
   "source": [
    "# Labs 5\n",
    "\n",
    "This set of labs is going to be a little different from the others. Instead of coding a number of things from scratch, there are a number of notebooks in the Labs5 folder that you will use. In terms of what I want you to hand in, it should be a single pdf, with figures created from the different notebooks. Each lab will include one part answering questions about the code and what it does, and the second part will be doing some experiments with the notebook itself. It might be easier to try running the code a couple times with different parameters before answering the first part.\n",
    "\n",
    "You are welcome to make that pdf with whatever software you like, although if you want to make it using a jupyter notebook the following might be useful:\n",
    "\n",
    "1. to save a figure in python you can use ```plt.savefig('figureLocationAndName.png')```\n",
    "2. to include an image in a markdown cell you can use ```<img src=\"figureLocationAndName.png\" height=100% width=100%>``` and obviously you can change height and width to make sure it fits in the notebook. "
   ]
  },
  {
   "cell_type": "markdown",
   "metadata": {},
   "source": [
    "## 5.1 - Optimal Interpolation\n",
    "\n",
    "This lab uses the notebook PrecipOI.ipynb\n",
    "\n",
    "The goal is going to be to combine two different precipitation datasets. \n",
    "1. DOE 20th Century Analysis Version 3: This is a reanalysis product based on a meteorological model assimilating surface pressure observations using an Ensemble Kalman Filter https://www.psl.noaa.gov/data/gridded/data.20thC_ReanV3.html\n",
    "2. GPCP: These are direct measurements of precipitation, from both surface stations and satellite measurements https://eagle1.umd.edu/GPCP_ICDR/GPCP_Monthly.html \n",
    "\n",
    "### Questions\n",
    "1. Run the code, what is it doing? What do the final plots show?\n",
    "2. The code only assimilates the precipitation anomalies. Why do you think this is?\n",
    "3. How does the code estimate gammaB and gammaR? \n",
    "4. What does spatialFilter do? What happens if you turn it off? What does the parameter r0 control? What value of r0 do you think is a good choice?\n",
    "5. What do the different choices of Hoption represent? How does this impact the results?\n",
    " "
   ]
  },
  {
   "cell_type": "markdown",
   "metadata": {},
   "source": [
    "# 5.2 - Linear KalmanFilter\n",
    "\n",
    "This code uses the KalmanFilter.ipynb notebook. The notebook does something very similar to the class notes, but instead of using a 1DOU process it uses a stochastic oscillator. The idea is that we generate 1 realization of the process we want to estimate, add some noise to it in order to create observations, and then try to estimate the initial realization from the noisy, subsampled observations. \n",
    "\n",
    "Because the notebook generates a new realization everytime it is run, you might want to try rerunning it a few times for each experiment you do. \n",
    "\n",
    "### Questions \n",
    "1. Try running the filter with the default parameters, what do you notice about the estimation of component 0 vs component 1? What do the error bars represent in each case?\n",
    "2. What happens if you set tau=0.25? Why did this happen? What other parameters could you change to improve the estimate?\n",
    "3. reset tau=1. What happens if you change the value of R?\n",
    "4. What happens if you change the Hobs array? Good things to experiment with are using both observations, either independently or taking the mean of both. \n",
    "5. What happens as you change the sampling rates? "
   ]
  },
  {
   "cell_type": "markdown",
   "metadata": {},
   "source": [
    "# 5.3 - Ensemble Kalman Filtering \n",
    "\n",
    "This model integrates a stochastic version of the famous Lorenz Butterfly model:\n",
    "\n",
    "$$\n",
    "\\begin{align*}\n",
    "dx= & \\left(-16(x-y)\\right)dt + DdW \\\\\n",
    "dy = & \\left( -xz + 45.92x -y \\right) dt + DdW \\\\\n",
    "dz = & \\left( xy -4z \\right) dt + DdW \\\\\n",
    "\\end{align*}\n",
    "$$\n",
    "\n",
    "The output from this model is shown at the start of the notebook. This model is famous as the first case where \"Chaos\" was first discovered and formalized. The original model is a spectrally truncated version of buoyantly forced turbulence, the parameters here are the \"classic\" values that have chaotic behavior. Chaos in the context of the model can be interpreted as aperiodic jumping between the left and right sides of the domain (in $x_0$). This behavior, the aperiodic switching between apparent cyclic attractors, is characteristic of a \"strange attractor\", which chaos theory more or less exists to study. \n",
    "\n",
    "The classic version of the model comes from choosing $D=0$. In this case the model will show strong sensitivity to the initial conditions. However, with the stochastic forcing there is no longer strong sensitivity to the initial conditions, since there is random perturbations at every time step, so rerunning the model with exactly the initial condition will result in drastically different simulations.\n",
    "\n",
    "The notebook LorenzModelAssimilation.ipynb implements the stochastic Lorenz model and an ensemble Kalman filter to estimate it, similar to the linear case. \n",
    "\n",
    "### Questions \n",
    "1. Run the filter several times. Describe what the filter is going. What is happening with the uncertainty bounds?\n",
    "2. What happens as you increase and decrease R? Are there any particular thresholds?\n",
    "3. What happens when you change the number of ensemble members? \n",
    "4. What happens when you change the sampling rate of the observations?\n",
    "5. What happens as you increase the value of D? (try using D=5 for instance).\n",
    "6. Change the observation operator so that only 1 component is being observed. What happens to the filter estimate? What can you do in order to fix this?"
   ]
  },
  {
   "cell_type": "markdown",
   "metadata": {},
   "source": [
    "5.4 - 4DVAR \n",
    "\n",
    "This lab uses the code in LorenzModel4DVar.ipynb The Lorenz Butterfly model is integrated with $D=0$, i.e. it is the deterministic version of the Lorenz model.\n",
    "\n",
    "This code works a little bit differently from the other examples. Rougly speaking the code does the following:\n",
    "\n",
    "1. Simulate one realization of the model and call it the truth. Note that the first  \n",
    "2. Sample the truth over a small period and call it the observations.\n",
    "3. Come up with a perturbed initial condition\n",
    "4. Optimize the initial condition using 4DVAR and use this to create a forecast. Use the perturbed initial condition as a initial guess for 4DVAR.\n",
    "5. Start a \"forecast\" with the perturbed intial condition in order to compare to the optimized version\n",
    "\n",
    "Questions:\n",
    "1. Run the code a couple of times. How do xtrue, x0, and xopt compare? How do the forecasts compare? \n",
    "2. Change the value of robs. What does this do to the forecast?\n",
    "3. How does varying the sampling effect the forecast?\n",
    "4. Change the value of Ndim to be 1. What does this do? How does this effect the forecast? "
   ]
  }
 ],
 "metadata": {
  "language_info": {
   "name": "python"
  }
 },
 "nbformat": 4,
 "nbformat_minor": 2
}
