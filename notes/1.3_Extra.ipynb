{
 "cells": [
  {
   "cell_type": "code",
   "execution_count": 4,
   "metadata": {},
   "outputs": [
    {
     "data": {
      "application/javascript": "IPython.notebook.set_autosave_interval(60000)"
     },
     "metadata": {},
     "output_type": "display_data"
    },
    {
     "name": "stdout",
     "output_type": "stream",
     "text": [
      "Autosaving every 60 seconds\n"
     ]
    }
   ],
   "source": [
    "%autosave 60"
   ]
  },
  {
   "cell_type": "markdown",
   "metadata": {},
   "source": [
    "## Tests about differences in the mean\n",
    "\n",
    "$$ \\frac{\\left(\\overline{x}-\\overline{y}\\right)-\\Delta\\mu^{hyp}}{\\sqrt{\\frac{s_x^2}{N_x}+\\frac{s_y^2}{N_y}}} $$\n",
    "\n",
    "\n",
    "### Test statistic when is $\\mu_{hyp} \\neq 0$\n",
    "\n",
    "Imagine that $$x \\sim \\mathcal{N}\\left(0,1\\right)$$ $$y \\sim \\mathcal{N}\\left(100,1\\right)$$ \n",
    "\n",
    "Obviously if test the hypothesis that $$\\overline{x}-\\overline{y}=0$$ we can reject it. A more sensible test would be to test $$\\overline{x}-\\overline{y}=100$$\n",
    "\n",
    "i.e. make $\\mu_{hyp}=100$\n",
    "\n",
    "### Pooled Variance\n",
    "\n",
    "##### Known Variance\n",
    "\n",
    "If the standard deviations of two distributions are known, then the standard error of the means $\\overline{x}$ and $\\overline{y}$ are $$SE_{x}=\\frac{s_x}{\\sqrt{N_x}}$$ $$SE_{y}=\\frac{s_y}{\\sqrt{N_y}}$$\n",
    "\n",
    "If we wanted to make a new variable $z=x-y$, then it $\\overline{z}$ would have variance $$ \\frac{s_x^2}{N_x}+\\frac{s_y^2}{N_y} $$\n",
    "\n",
    "So the new standard error of the mean for the variable $\\overline{z}$ would be $$ SE_z =  \\sqrt{\\frac{s_x^2}{N_x}+\\frac{s_y^2}{N_y}} $$\n",
    "\n",
    "##### Unknown Variance\n",
    "\n",
    "For unknown variance we can combine the variances together\n",
    "\n",
    "$$ s^2_p = \\frac{\\left(N_x-1\\right)s_x^2 + \\left(N_y-1\\right)s_y^2}{N_x+N_y-2} $$\n",
    "\n",
    "And in this case the standard error of the mean of $\\overline{z}$ would be $$ SE_z = s_p\\sqrt{\\frac{1}{N_x}+\\frac{1}{N_y}} $$\n"
   ]
  },
  {
   "cell_type": "markdown",
   "metadata": {},
   "source": [
    "### Confidence intervals\n",
    "\n",
    "![](../images/CI.png)"
   ]
  },
  {
   "cell_type": "markdown",
   "metadata": {},
   "source": [
    "How can we determine a sensible null hypothesis if we know little about the nature of some data in the real world?\n",
    "\n",
    "### Testing against the null hypothesis \n",
    "\n",
    "### Bootstrapping\n",
    "\n",
    "![](../images/Illustration_bootstrap.svg.png)\n",
    "\n"
   ]
  }
 ],
 "metadata": {
  "kernelspec": {
   "display_name": "base",
   "language": "python",
   "name": "python3"
  },
  "language_info": {
   "codemirror_mode": {
    "name": "ipython",
    "version": 3
   },
   "file_extension": ".py",
   "mimetype": "text/x-python",
   "name": "python",
   "nbconvert_exporter": "python",
   "pygments_lexer": "ipython3",
   "version": "3.11.4"
  }
 },
 "nbformat": 4,
 "nbformat_minor": 2
}
