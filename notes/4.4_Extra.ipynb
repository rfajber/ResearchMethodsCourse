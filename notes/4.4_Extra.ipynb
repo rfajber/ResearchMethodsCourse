{
 "cells": [
  {
   "cell_type": "markdown",
   "metadata": {},
   "source": [
    "Suppose that we have two datasets X and Y:\n",
    "$$X \\rightarrow (nx,nt)$$\n",
    "$$Y \\rightarrow (ny,nt)$$\n",
    "\n",
    "To make our lives easy assume that they both have mean zero\n",
    "$$ \\overline{Y}=0 $$\n",
    "$$ \\overline{X}=0 $$\n",
    "\n",
    "The covariance matrices for each can be calculated\n",
    "$$ C_{xx} = X X^T \\rightarrow (nx,nx)$$\n",
    "$$ C_{yy} = Y Y^T \\rightarrow (ny,ny) $$\n",
    "\n",
    "and then diagonalized to get the EOFs\n",
    "$$ C_{xx} = P_x^{-1} Q_x P_x $$\n",
    "$$ C_{yy} = P_y^{-1} Q_y P_y $$\n",
    "\n",
    "If we form the covariance between X and Y we can take the SVD between them:\n",
    "$$ C_{xy} = X Y^T$$\n",
    "$$ C_{xy} = U \\Lambda V$$\n",
    "\n",
    "We can also make \"standardized\" variables by dividing everything by the standard deviation at each grid point:\n",
    "$$Xs = X/S_x $$\n",
    "$$Ys = Y/S_y $$\n",
    "\n",
    "And then calculating the correlation matrices:\n",
    "$$ R_{xx} = X_s X_s^T \\rightarrow (nx,nx)$$\n",
    "$$ R_{yy} = Y_s Y_s^T \\rightarrow (ny,ny) $$\n",
    "\n",
    "Which can then be diagonalized to get the \"Correlation EOFs\":\n",
    "$$ R_{xx} = P_x^{-1} Q_x P_x $$\n",
    "$$ R_{yy} = P_y^{-1} Q_y P_y $$\n",
    "\n",
    "We could also form the cross correlation matrix and use SVD to get the CCA decompostion:\n",
    "$$ R_{xy} = X_s Y_s^T$$\n",
    "$$ R_{xy} = U \\Lambda V$$"
   ]
  },
  {
   "cell_type": "markdown",
   "metadata": {},
   "source": [
    "\n",
    "\n",
    "| | Covariance | Correlation |\n",
    "|--- | --- | --- |\n",
    "|  1 variable   |   $ C_{xx} = P_x^{-1} Q_x P_x $ <br><br> EOF   |  $ R_{xx} = P_x^{-1} Q_x P_x $  <br><br> Correlation EOF |\n",
    "|  2 variables   |   $ C_{xy} = U \\Lambda V $ <br><br>  SVD  |  $ R_{xy} = U \\Lambda V $ <br><br>  CCA  |"
   ]
  }
 ],
 "metadata": {
  "language_info": {
   "name": "python"
  }
 },
 "nbformat": 4,
 "nbformat_minor": 2
}
