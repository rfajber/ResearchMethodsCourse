{
 "cells": [
  {
   "cell_type": "markdown",
   "metadata": {
    "tags": []
   },
   "source": [
    "# 2.1 Extra\n",
    "\n",
    "## What is the difference between white and red noise?\n",
    "\n",
    "## What is the most general type of stochastic differential equation?\n",
    "\n",
    "- A \"Markov Process\" is one where $$P(x(t_{i+1})|x(t_{i})x(t_{i-1}),...x(t_1))=P(x(t_{i+1})|x(t_{i}))$$\n",
    "  \n",
    "- The the most general continuous time version of a 1D markov process can be written as a stochastic differential equation in the form: \n",
    "\n",
    "$$ dx = \\underbrace{f(x,t)dt}_{\\mathrm{drift}} + \\underbrace{g(x,t)dW}_{\\mathrm{diffusion}} + \\underbrace{h(x,t)dJ}_{\\mathrm{jump}}  $$\n",
    "\n",
    "\n",
    "- drift is something deterministic, driven by deterministic time steps\n",
    "- diffusion is being driven by random Gaussian steps \n",
    "- jump is being driven by random Poisson steps \n",
    "  \n",
    "![](../images/MarkovPaths.png)"
   ]
  },
  {
   "cell_type": "markdown",
   "metadata": {},
   "source": [
    "# Why is the mean of the 1D OU 0?\n",
    "\n",
    "- the expectation of a deterministic function is just the function:\n",
    "$$\\left<f(t)\\right>=\\int \\, f(t)\\, P(u) du = f(t) \\int \\, P(u) du = f(t)$$\n",
    "\n",
    "- so the expectation of $f(t)dW$ can be simplified by pulling out $f(t)$\n",
    "$$\\left<f(t)dW\\right>=f(t)\\left<dW\\right>=0 $$\n",
    "\n",
    "- for a minute, lets set x_0=0 and $t_0=0$. Then we can approximate the integral \n",
    "$$\\begin{align*} x &=&  \\int^{t}_{0} \\exp\\left(\\frac{t'-t}{\\tau}\\right)\\gamma dW(t') \\\\\n",
    "x & \\approx & \\gamma \\sum_{i=0}^{i=n} \\exp\\left(\\frac{idt-t}{\\tau}\\right) dW  \\\\\n",
    "\\left<x\\right>& \\approx & \\left< \\gamma \\sum_{i=0}^{i=n} \\exp\\left(\\frac{idt-t}{\\tau}\\right) dW\\right>  \\\\\n",
    "\\left<x\\right>& \\approx &  \\gamma \\sum_{i=0}^{i=n} \\left<\\exp\\left(\\frac{idt-t}{\\tau}\\right) dW\\right>  \\\\\n",
    "\\left<x\\right>& \\approx &  \\gamma \\sum_{i=0}^{i=n} \\exp\\left(\\frac{idt-t}{\\tau}\\right) \\left<dW\\right>  \\\\\n",
    "&=  0 \\\\\n",
    "\\end{align*}$$"
   ]
  },
  {
   "cell_type": "markdown",
   "metadata": {},
   "source": [
    "## What happens if we try to scale $dW\\sim dt$ in a numerical simulation? \n",
    "\n",
    "- Postponed until after this lab when it will make more sense..."
   ]
  },
  {
   "cell_type": "markdown",
   "metadata": {},
   "source": [
    "## Applications of these processes:\n",
    "\n",
    "### As null hypotheses\n",
    "\n",
    "<img src=\"../images/EnsoWaveletSpectrum.png\" width=\"30%\" height=\"30%\">\n",
    "\n",
    "\n",
    "### As conceptual models of the climate \n",
    "\n",
    "<img src=../images/HasselmanWhite.png width=\"33%\" height=\"33%\">\n",
    "<img src=../images/HasselmanRed.png width=\"30%\" height=\"30%\">\n",
    "\n",
    "\n",
    "### As forecasting models \n",
    "\n",
    "<img src=../images/LIM_ENSO_Forecast.png width=\"50%\" height=\"50%\">\n",
    "\n",
    "\n",
    "### As driving more complicated models \n",
    "<img src=../images/O2StochasticModel.png width=\"30%\" height=\"30%\">\n",
    "<img src=../images/O2StochasticModelParameters.png width=\"40%\" height=\"40%\">\n",
    "\n"
   ]
  }
 ],
 "metadata": {
  "language_info": {
   "name": "python"
  }
 },
 "nbformat": 4,
 "nbformat_minor": 2
}
