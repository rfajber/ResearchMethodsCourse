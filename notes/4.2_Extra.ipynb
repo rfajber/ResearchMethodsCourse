{
 "cells": [
  {
   "cell_type": "markdown",
   "metadata": {},
   "source": [
    "### Why do we remove the temporal mean before taking EOFs?\n",
    "$$ \\overline{X^2} = \\overline{X'^2} + \\overline{X}^2$$\n",
    "\n",
    "For many variables $\\overline{X}^2 \\gg \\overline{X'^2}$, so the first EOF will just tell you information about $\\overline{X}^2$, which you don't really need. \n",
    "\n",
    "Try this with the SST data and see what happens!"
   ]
  },
  {
   "cell_type": "markdown",
   "metadata": {},
   "source": [
    "## Example 1 - SSTs"
   ]
  },
  {
   "cell_type": "markdown",
   "metadata": {},
   "source": [
    "<img src=\"../images/Correlation-coefficients-between-the-ENSO-index-and-a-global-temperature-in.png\" width=50%, height=50%>"
   ]
  },
  {
   "cell_type": "markdown",
   "metadata": {},
   "source": [
    "<img src=\"../images/full-jcli-d-16-0786.1-f4.jpg\" width=50%, height=50%>"
   ]
  },
  {
   "cell_type": "markdown",
   "metadata": {},
   "source": [
    "<img src=\"../images/full-jcli-d-16-0786.1-f7.jpg\" width=50%, height=50%>"
   ]
  },
  {
   "cell_type": "markdown",
   "metadata": {},
   "source": [
    "## Example 2 - Northern Hemisphere Variability"
   ]
  },
  {
   "cell_type": "markdown",
   "metadata": {},
   "source": [
    "<img src=\"../images/Renew.ao.loading.gif\" width=50%, height=50%>"
   ]
  },
  {
   "cell_type": "markdown",
   "metadata": {},
   "source": [
    "<img src=\"../images/nao_correlation_map.gif\" width=50%, height=50%>"
   ]
  },
  {
   "cell_type": "markdown",
   "metadata": {},
   "source": [
    "<img src=\"../images/pna_correlation_map.gif\" width=50%, height=50%>"
   ]
  },
  {
   "cell_type": "markdown",
   "metadata": {},
   "source": [
    "<img src=\"../images/nao_pc_ann.gif\" width=50%, height=50%>"
   ]
  },
  {
   "cell_type": "markdown",
   "metadata": {},
   "source": [
    "<img src=\"../images/KushnerEOF1.png\" width=50%, height=50%>"
   ]
  },
  {
   "cell_type": "markdown",
   "metadata": {},
   "source": [
    "<img src=\"../images/KushnerEOF2.png\" width=50%, height=50%>"
   ]
  },
  {
   "cell_type": "markdown",
   "metadata": {},
   "source": [
    "<img src=\"../images/KushnerEOF3.png\" width=50%, height=50%>"
   ]
  }
 ],
 "metadata": {
  "language_info": {
   "name": "python"
  }
 },
 "nbformat": 4,
 "nbformat_minor": 2
}
