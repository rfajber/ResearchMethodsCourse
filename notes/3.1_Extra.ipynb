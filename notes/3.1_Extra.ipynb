{
 "cells": [
  {
   "cell_type": "code",
   "execution_count": 17,
   "metadata": {},
   "outputs": [],
   "source": [
    "import numpy as np"
   ]
  },
  {
   "cell_type": "markdown",
   "metadata": {},
   "source": [
    "# Why do we want to use power spectrum? \n",
    "\n",
    "- ENSO is a famous example: the ENSO index shows variability on a range of time scales, and its hard to pick these out just by eye.\n",
    "\n",
    "<img src=\"../images/el_nino_chart.png\" height=50% width=50%>\n",
    "\n",
    "<img src =\"../images/EnsoWaveletSpectrum.png\" height=50% width=50%>"
   ]
  },
  {
   "cell_type": "markdown",
   "metadata": {},
   "source": [
    "# Why is there a $\\frac{1}{N}$ in the inverse DFT?\n",
    "\n",
    "- Forward DFT: $$X_s = \\sum_{k=0}^{N-1} \\exp\\left(-2\\pi j s k \\right) x_k$$\n",
    "- Inverse DFT: $$x_k = \\frac{1}{N} \\sum_{s}  \\exp\\left(2\\pi j s k \\right) X_s$$\n",
    "- Substitute them into each other: \n",
    "$$ \\begin{align*} x_k & = &  \\frac{1}{N} \\sum_{s}  \\exp\\left(2\\pi j s k \\right) \\left[\\sum_{k'=0}^{N-1} \\exp\\left(-2\\pi j s k' \\right) x_{k'}\\right]  \\\\ &=& \\frac{1}{N} \\sum_{s} \\sum_{k'=0}^{N-1} \\exp\\left(-2\\pi j s \\left(k'-k\\right) \\right) x_{k'}  \\end{align*}  $$\n",
    "- Since the fourier modes are orthogonal, we have $$ \\sum_{k'=0}^{N-1} \\exp\\left(-2\\pi j s \\left(k'-k\\right) \\right) x_{k'} = \\begin{cases}\n",
    "  x_k  & k=k'  \\\\\n",
    "  0 & \\text{ else}\n",
    "\\end{cases} $$\n",
    "- So the original expression becomes: $$x_k = \\frac{1}{N} \\sum_{s} x_k = \\frac{N}{N} x_k =x_k $$\n",
    "- So in order for the forward and inverse DFT to work there needs to be a factor of 1/N combined between them.\n",
    "- By convention this is done on the inverse FFT\n",
    "- *However*, scipy.fft allows you to change this now using the \"norm\" option. "
   ]
  },
  {
   "cell_type": "markdown",
   "metadata": {},
   "source": [
    "# Parseval's thereom\n",
    "$$ \\int^\\infty_{-\\infty} |x(t)|^2 dt  = \\int^\\infty_{-\\infty} |X(s)|^2 ds $$\n",
    "\n",
    "Imagine that the time series $x$ has $\\overline{x}=0$. Then Parsevals thereom becomes:\n",
    "\n",
    "$$\\mathrm{var} (x) = \\int^\\infty_{-\\infty} |X(s)|^2 ds$$\n",
    "\n"
   ]
  },
  {
   "cell_type": "markdown",
   "metadata": {},
   "source": [
    "## The gist of how the FFT works\n",
    "\n",
    "A **very** indepth look is available at: https://vanhunteradams.com/FFT/FFT.html\n",
    "\n",
    "Suppose that we have input data $$x_0,x_2,...x_{n}$$ where $n$ is an even number \n",
    "\n",
    "- The fourier transform is:\n",
    "\n",
    "$$ \\begin{align*}X_k &=& \\frac{1}{2n} \\sum ^{2n-1}_{i=0} \\exp\\left(\\frac{2\\pi kj}{2n}i\\right)x_i \\\\  & \\equiv & F_k(x)  \\end{align*} $$\n",
    "\n",
    "- This will be $n^2$ operations \n",
    "\n",
    "This can be factored into \n",
    "$$ \\begin{align*} \n",
    "\n",
    "X_k & = &  \\frac{1}{2n} \\left[ \\sum ^{n-1}_{i=0} \\exp\\left(\\frac{2\\pi kj}{2n}i\\right)x_{2i} + \\exp\\left(\\frac{2\\pi kj}{2n}\\right)\\sum ^{n-1}_{i=0} \\exp\\left(\\frac{2\\pi kj}{2n}i\\right)x_{2i+1} \\right] \\\\\n",
    "\n",
    "X_k & = & \\frac{1}{2n} \\left[F_k(x_{\\mathrm{even}}) +  \\exp\\left(\\frac{2\\pi kj}{2n}\\right)  F_k(x_{\\mathrm{odd}})\\right]& \n",
    "\n",
    "\\end{align*}$$\n",
    "\n",
    "- This will be $2\\left(\\frac{n}{2}\\right)^2+1 = \\frac{n^2}{2}+1$ operations\n",
    "- If the original data had a length that was a power of 2, this could factored down to single calculations, in which case the number of operations would be approximately $n \\log_2 n$.\n",
    "- For data that is not length 2 we can either pad it with 0s or use similar tricks for other prime factorizatiosn"
   ]
  },
  {
   "cell_type": "markdown",
   "metadata": {},
   "source": [
    "# complex numbers in python "
   ]
  },
  {
   "cell_type": "code",
   "execution_count": 70,
   "metadata": {},
   "outputs": [
    {
     "data": {
      "text/plain": [
       "complex"
      ]
     },
     "execution_count": 70,
     "metadata": {},
     "output_type": "execute_result"
    }
   ],
   "source": [
    "\n",
    "type(5+0j)\n"
   ]
  },
  {
   "cell_type": "code",
   "execution_count": 33,
   "metadata": {},
   "outputs": [
    {
     "data": {
      "text/plain": [
       "(1+2j)"
      ]
     },
     "execution_count": 33,
     "metadata": {},
     "output_type": "execute_result"
    }
   ],
   "source": [
    "2j + 1"
   ]
  },
  {
   "cell_type": "code",
   "execution_count": 31,
   "metadata": {},
   "outputs": [
    {
     "data": {
      "text/plain": [
       "1.0"
      ]
     },
     "execution_count": 31,
     "metadata": {},
     "output_type": "execute_result"
    }
   ],
   "source": [
    "np.real(2j+1)"
   ]
  },
  {
   "cell_type": "code",
   "execution_count": 32,
   "metadata": {},
   "outputs": [
    {
     "data": {
      "text/plain": [
       "2.0"
      ]
     },
     "execution_count": 32,
     "metadata": {},
     "output_type": "execute_result"
    }
   ],
   "source": [
    "np.imag(2j+1)"
   ]
  },
  {
   "cell_type": "code",
   "execution_count": 20,
   "metadata": {},
   "outputs": [
    {
     "name": "stdout",
     "output_type": "stream",
     "text": [
      "[0.+0.j 0.+0.j 0.+0.j 0.+0.j 0.+0.j]\n"
     ]
    }
   ],
   "source": [
    "a=np.zeros(5,dtype=complex)\n",
    "print(a)"
   ]
  },
  {
   "cell_type": "code",
   "execution_count": 34,
   "metadata": {},
   "outputs": [
    {
     "data": {
      "text/plain": [
       "5.000000000000001"
      ]
     },
     "execution_count": 34,
     "metadata": {},
     "output_type": "execute_result"
    }
   ],
   "source": [
    "np.abs(2j+1)**2"
   ]
  },
  {
   "cell_type": "code",
   "execution_count": 37,
   "metadata": {},
   "outputs": [
    {
     "data": {
      "text/plain": [
       "(5+0j)"
      ]
     },
     "execution_count": 37,
     "metadata": {},
     "output_type": "execute_result"
    }
   ],
   "source": [
    "(2j+1)*(-2j+1)"
   ]
  },
  {
   "cell_type": "code",
   "execution_count": 36,
   "metadata": {},
   "outputs": [
    {
     "data": {
      "text/plain": [
       "(5+0j)"
      ]
     },
     "execution_count": 36,
     "metadata": {},
     "output_type": "execute_result"
    }
   ],
   "source": [
    "np.conj(2j+1)*(2j+1)"
   ]
  }
 ],
 "metadata": {
  "kernelspec": {
   "display_name": "base",
   "language": "python",
   "name": "python3"
  },
  "language_info": {
   "codemirror_mode": {
    "name": "ipython",
    "version": 3
   },
   "file_extension": ".py",
   "mimetype": "text/x-python",
   "name": "python",
   "nbconvert_exporter": "python",
   "pygments_lexer": "ipython3",
   "version": "3.11.4"
  }
 },
 "nbformat": 4,
 "nbformat_minor": 2
}
