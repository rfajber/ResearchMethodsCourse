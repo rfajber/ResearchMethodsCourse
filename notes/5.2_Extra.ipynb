{
 "cells": [
  {
   "cell_type": "markdown",
   "metadata": {},
   "source": [
    "## Why does F have to be linear?\n",
    "- For a general operator: $$\\vec{x}^f_{k} = F\\left(\\vec{x}^f_{k-1}\\right) $$\n",
    "- and so: $$\\left<\\vec{x}^f_{k}\\right> = \\left<F\\left(\\vec{x}^f_{k-1}\\right)\\right> $$\n",
    "- If F is a constant matrix $A$, then: $$\\left<\\vec{x}^f_{k}\\right> = A\\left<\\vec{x}^f_{k-1}\\right> $$\n",
    "\n",
    "- What to do for non linear $F$? \n",
    "    1. Approximate $F$ (Extended Kalman Filter): $$\\left<\\vec{x}^f_{k}\\right> = \\frac{\\partial F}{\\partial{\\vec{x}}}|_{\\vec{x}^f_k}\\left<\\vec{x}^f_{k-1}\\right> $$\n",
    "    2. Approximate the mean (Ensemble Kalman Filter): $$\\left<x^f_k\\right> \\approx \\frac{1}{n} \\sum_{i=1}^{i=n} x^{fi}_{k}$$\n",
    "\n",
    "- Why would we want to use one over the other?\n",
    "  - We could have written F as an integral: $$ x(t+\\Delta t) = x(t) + \\int^{t+\\Delta t}_{t} \\frac{dx}{dt} dt $$\n",
    "    - $\\Delta t$ is the space between observations \n",
    "    - if $\\Delta t$ is small, then its ok to approximate $\\frac{dx}{dt}$ as constant, and so the Extended (Linear) Kalman Filter is ok\n",
    "    - if $\\Delta t$ is large, then this approximation will struggle, and Ensemble Kalman Filtering is a better choice"
   ]
  },
  {
   "cell_type": "markdown",
   "metadata": {},
   "source": [
    "## A conceptual diagram \n",
    "<img src=\"../images/KalmanFilteringDiagram.png\">"
   ]
  }
 ],
 "metadata": {
  "kernelspec": {
   "display_name": "Python 3",
   "language": "python",
   "name": "python3"
  },
  "language_info": {
   "name": "python",
   "version": "3.10.12"
  }
 },
 "nbformat": 4,
 "nbformat_minor": 2
}
